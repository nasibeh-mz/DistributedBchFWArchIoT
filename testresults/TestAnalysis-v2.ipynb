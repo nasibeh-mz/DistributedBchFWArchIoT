{
  "cells": [
    {
      "cell_type": "code",
      "execution_count": null,
      "metadata": {
        "trusted": true
      },
      "outputs": [
        {
          "ename": "",
          "evalue": "",
          "output_type": "error",
          "traceback": [
            "\u001b[1;31mRunning cells with '/usr/bin/python3.8' requires the ipykernel package.\n",
            "\u001b[1;31mRun the following command to install 'ipykernel' into the Python environment. \n",
            "\u001b[1;31mCommand: '/usr/bin/python3.8 -m pip install ipykernel -U --user --force-reinstall'"
          ]
        }
      ],
      "source": [
        "import matplotlib.pyplot as plt\n",
        "import numpy as np"
      ]
    },
    {
      "cell_type": "code",
      "execution_count": null,
      "metadata": {
        "trusted": true
      },
      "outputs": [
        {
          "ename": "",
          "evalue": "",
          "output_type": "error",
          "traceback": [
            "\u001b[1;31mRunning cells with '/usr/bin/python3.8' requires the ipykernel package.\n",
            "\u001b[1;31mRun the following command to install 'ipykernel' into the Python environment. \n",
            "\u001b[1;31mCommand: '/usr/bin/python3.8 -m pip install ipykernel -U --user --force-reinstall'"
          ]
        }
      ],
      "source": [
        "folder1KB_path = '1KBRegister'\n",
        "folder22KB_path = '22KBRegister'\n",
        "folder94KB_path = '94KBRegister'\n",
        "folder289KB_path = '289KBRegister'\n",
        "folder552KB_path = '552KBRegister'\n",
        "folder1MB_path = '1MBRegister'\n",
        "folder4MB_path = '4MBRegister'\n",
        "folder9MB_path = '9MBRegister'\n",
        "folder12MB_path = '12MBRegister'\n",
        "folder15MB_path = '15MBRegister'\n",
        "folder19MB_path = '19MBRegister'\n",
        "folder26MB_path = '26MBRegister'\n",
        "folder32MB_path = '32MBRegister'\n",
        "folder36MB_path = '36MBRegister'\n",
        "cid_path = '/cidlog.txt'\n",
        "ipfs_path = '/ipfslog.txt'\n",
        "store_path= '/storelog.txt'\n",
        "start_path = '/startlog.txt'\n",
        "end_path = '/endlog.txt'"
      ]
    },
    {
      "cell_type": "code",
      "execution_count": null,
      "metadata": {
        "trusted": true
      },
      "outputs": [
        {
          "ename": "",
          "evalue": "",
          "output_type": "error",
          "traceback": [
            "\u001b[1;31mRunning cells with '/usr/bin/python3.8' requires the ipykernel package.\n",
            "\u001b[1;31mRun the following command to install 'ipykernel' into the Python environment. \n",
            "\u001b[1;31mCommand: '/usr/bin/python3.8 -m pip install ipykernel -U --user --force-reinstall'"
          ]
        }
      ],
      "source": [
        "def read_file(path,lista):\n",
        "    with open(path) as file:\n",
        "        while (line := file.readline().rstrip()):\n",
        "            lista.append(int(line))\n",
        "    return lista"
      ]
    },
    {
      "cell_type": "code",
      "execution_count": null,
      "metadata": {
        "trusted": true
      },
      "outputs": [
        {
          "ename": "",
          "evalue": "",
          "output_type": "error",
          "traceback": [
            "\u001b[1;31mRunning cells with '/usr/bin/python3.8' requires the ipykernel package.\n",
            "\u001b[1;31mRun the following command to install 'ipykernel' into the Python environment. \n",
            "\u001b[1;31mCommand: '/usr/bin/python3.8 -m pip install ipykernel -U --user --force-reinstall'"
          ]
        }
      ],
      "source": [
        "start1KB = read_file(folder1KB_path+start_path,[])\n",
        "end1KB = read_file(folder1KB_path+end_path,[])\n",
        "store1KB = read_file(folder1KB_path+store_path,[])\n",
        "cid1KB = read_file(folder1KB_path+cid_path,[])\n",
        "ipfs1KB = read_file(folder1KB_path+ipfs_path,[])\n",
        "\n",
        "start22KB = read_file(folder22KB_path+start_path,[])\n",
        "end22KB = read_file(folder22KB_path+end_path,[])\n",
        "store22KB = read_file(folder22KB_path+store_path,[])\n",
        "cid22KB = read_file(folder22KB_path+cid_path,[])\n",
        "ipfs22KB = read_file(folder22KB_path+ipfs_path,[])\n",
        "\n",
        "start94KB = read_file(folder94KB_path+start_path,[])\n",
        "end94KB = read_file(folder94KB_path+end_path,[])\n",
        "store94KB = read_file(folder94KB_path+store_path,[])\n",
        "cid94KB = read_file(folder94KB_path+cid_path,[])\n",
        "ipfs94KB = read_file(folder94KB_path+ipfs_path,[])\n",
        "\n",
        "start552KB = read_file(folder552KB_path+start_path,[])\n",
        "end552KB = read_file(folder552KB_path+end_path,[])\n",
        "store552KB = read_file(folder552KB_path+store_path,[])\n",
        "cid552KB = read_file(folder552KB_path+cid_path,[])\n",
        "ipfs552KB = read_file(folder552KB_path+ipfs_path,[])\n",
        "\n",
        "start289KB = read_file(folder289KB_path+start_path,[])\n",
        "end289KB = read_file(folder289KB_path+end_path,[])\n",
        "store289KB = read_file(folder289KB_path+store_path,[])\n",
        "cid289KB = read_file(folder289KB_path+cid_path,[])\n",
        "ipfs289KB = read_file(folder289KB_path+ipfs_path,[])\n",
        "\n",
        "start1MB = read_file(folder1MB_path+start_path,[])\n",
        "end1MB = read_file(folder1MB_path+end_path,[])\n",
        "store1MB = read_file(folder1MB_path+store_path,[])\n",
        "cid1MB = read_file(folder1MB_path+cid_path,[])\n",
        "ipfs1MB = read_file(folder1MB_path+ipfs_path,[])\n",
        "\n",
        "start4MB = read_file(folder4MB_path+start_path,[])\n",
        "end4MB = read_file(folder4MB_path+end_path,[])\n",
        "store4MB = read_file(folder4MB_path+store_path,[])\n",
        "cid4MB = read_file(folder4MB_path+cid_path,[])\n",
        "ipfs4MB = read_file(folder4MB_path+ipfs_path,[])\n",
        "\n",
        "start9MB = read_file(folder9MB_path+start_path,[])\n",
        "end9MB = read_file(folder9MB_path+end_path,[])\n",
        "store9MB = read_file(folder9MB_path+store_path,[])\n",
        "cid9MB = read_file(folder9MB_path+cid_path,[])\n",
        "ipfs9MB = read_file(folder9MB_path+ipfs_path,[])\n",
        "\n",
        "start12MB = read_file(folder12MB_path+start_path,[])\n",
        "end12MB = read_file(folder12MB_path+end_path,[])\n",
        "store12MB = read_file(folder12MB_path+store_path,[])\n",
        "cid12MB = read_file(folder12MB_path+cid_path,[])\n",
        "ipfs12MB = read_file(folder12MB_path+ipfs_path,[])\n",
        "\n",
        "start15MB = read_file(folder15MB_path+start_path,[])\n",
        "end15MB = read_file(folder15MB_path+end_path,[])\n",
        "store15MB = read_file(folder15MB_path+store_path,[])\n",
        "cid15MB = read_file(folder15MB_path+cid_path,[])\n",
        "ipfs15MB = read_file(folder15MB_path+ipfs_path,[])\n",
        "\n",
        "start19MB = read_file(folder19MB_path+start_path,[])\n",
        "end19MB = read_file(folder19MB_path+end_path,[])\n",
        "store19MB = read_file(folder19MB_path+store_path,[])\n",
        "cid19MB = read_file(folder19MB_path+cid_path,[])\n",
        "ipfs19MB = read_file(folder19MB_path+ipfs_path,[])\n",
        "\n",
        "start26MB = read_file(folder26MB_path+start_path,[])\n",
        "end26MB = read_file(folder26MB_path+end_path,[])\n",
        "store26MB = read_file(folder26MB_path+store_path,[])\n",
        "cid26MB = read_file(folder26MB_path+cid_path,[])\n",
        "ipfs26MB = read_file(folder26MB_path+ipfs_path,[])\n",
        "\n",
        "start32MB = read_file(folder32MB_path+start_path,[])\n",
        "end32MB = read_file(folder32MB_path+end_path,[])\n",
        "store32MB = read_file(folder32MB_path+store_path,[])\n",
        "cid32MB = read_file(folder32MB_path+cid_path,[])\n",
        "ipfs32MB = read_file(folder32MB_path+ipfs_path,[])\n",
        "\n",
        "start36MB = read_file(folder36MB_path+start_path,[])\n",
        "end36MB = read_file(folder36MB_path+end_path,[])\n",
        "store36MB = read_file(folder36MB_path+store_path,[])\n",
        "cid36MB = read_file(folder36MB_path+cid_path,[])\n",
        "ipfs36MB = read_file(folder36MB_path+ipfs_path,[])"
      ]
    },
    {
      "cell_type": "code",
      "execution_count": null,
      "metadata": {
        "trusted": true
      },
      "outputs": [
        {
          "ename": "",
          "evalue": "",
          "output_type": "error",
          "traceback": [
            "\u001b[1;31mRunning cells with '/usr/bin/python3.8' requires the ipykernel package.\n",
            "\u001b[1;31mRun the following command to install 'ipykernel' into the Python environment. \n",
            "\u001b[1;31mCommand: '/usr/bin/python3.8 -m pip install ipykernel -U --user --force-reinstall'"
          ]
        }
      ],
      "source": [
        "def calculate_dif(list1, list2):\n",
        "    difs = []\n",
        "    difs_total = 0\n",
        "    for elem in range(0,len(list2)):\n",
        "        difs.append(list2[elem] - list1[elem])\n",
        "        difs_total += difs[elem]\n",
        "    average = difs_total / len(list2)\n",
        "    return difs, average"
      ]
    },
    {
      "cell_type": "code",
      "execution_count": null,
      "metadata": {
        "trusted": true
      },
      "outputs": [
        {
          "ename": "",
          "evalue": "",
          "output_type": "error",
          "traceback": [
            "\u001b[1;31mRunning cells with '/usr/bin/python3.8' requires the ipykernel package.\n",
            "\u001b[1;31mRun the following command to install 'ipykernel' into the Python environment. \n",
            "\u001b[1;31mCommand: '/usr/bin/python3.8 -m pip install ipykernel -U --user --force-reinstall'"
          ]
        }
      ],
      "source": [
        "register_times1KB, register_average1KB = calculate_dif(start1KB,end1KB)\n",
        "store_times1KB, store_average1KB = calculate_dif(start1KB,store1KB)\n",
        "ipfs_times1KB, ipfs_average1KB = calculate_dif(start1KB,ipfs1KB)\n",
        "cid_times1KB, cid_average1KB = calculate_dif(start1KB,cid1KB)\n",
        "\n",
        "register_times22KB, register_average22KB = calculate_dif(start22KB,end22KB)\n",
        "store_times22KB, store_average22KB = calculate_dif(start22KB,store22KB)\n",
        "ipfs_times22KB, ipfs_average22KB = calculate_dif(start22KB,ipfs22KB)\n",
        "cid_times22KB, cid_average22KB = calculate_dif(start22KB,cid22KB)\n",
        "\n",
        "register_times94KB, register_average94KB = calculate_dif(start94KB,end94KB)\n",
        "store_times94KB, store_average94KB = calculate_dif(start94KB,store94KB)\n",
        "ipfs_times94KB, ipfs_average94KB = calculate_dif(start94KB,ipfs94KB)\n",
        "cid_times94KB, cid_average94KB = calculate_dif(start94KB,cid94KB)\n",
        "\n",
        "register_times289KB, register_average289KB = calculate_dif(start289KB,end289KB)\n",
        "store_times289KB, store_average289KB = calculate_dif(start289KB,store289KB)\n",
        "ipfs_times289KB, ipfs_average289KB = calculate_dif(start289KB,ipfs289KB)\n",
        "cid_times289KB, cid_average289KB = calculate_dif(start289KB,cid289KB)\n",
        "\n",
        "register_times552KB, register_average552KB = calculate_dif(start552KB,end552KB)\n",
        "store_times552KB, store_average552KB = calculate_dif(start552KB,store552KB)\n",
        "ipfs_times552KB, ipfs_average552KB = calculate_dif(start552KB,ipfs552KB)\n",
        "cid_times552KB, cid_average552KB = calculate_dif(start552KB,cid552KB)\n",
        "\n",
        "register_times1MB, register_average1MB = calculate_dif(start1MB,end1MB)\n",
        "store_times1MB, store_average1MB = calculate_dif(start1MB,store1MB)\n",
        "ipfs_times1MB, ipfs_average1MB = calculate_dif(start1MB,ipfs1MB)\n",
        "cid_times1MB, cid_average1MB = calculate_dif(start1MB,cid1MB)\n",
        "\n",
        "register_times4MB, register_average4MB = calculate_dif(start4MB,end4MB)\n",
        "store_times4MB, store_average4MB = calculate_dif(start4MB,store4MB)\n",
        "ipfs_times4MB, ipfs_average4MB = calculate_dif(start4MB,ipfs4MB)\n",
        "cid_times4MB, cid_average4MB = calculate_dif(start4MB,cid4MB)\n",
        "\n",
        "register_times9MB, register_average9MB = calculate_dif(start9MB,end9MB)\n",
        "store_times9MB, store_average9MB = calculate_dif(start9MB,store9MB)\n",
        "ipfs_times9MB, ipfs_average9MB = calculate_dif(start9MB,ipfs9MB)\n",
        "cid_times9MB, cid_average9MB = calculate_dif(start9MB,cid9MB)\n",
        "\n",
        "register_times12MB, register_average12MB = calculate_dif(start12MB,end12MB)\n",
        "store_times12MB, store_average12MB = calculate_dif(start12MB,store12MB)\n",
        "ipfs_times12MB, ipfs_average12MB = calculate_dif(start12MB,ipfs12MB)\n",
        "cid_times12MB, cid_average12MB = calculate_dif(start12MB,cid12MB)\n",
        "\n",
        "register_times15MB, register_average15MB = calculate_dif(start15MB,end15MB)\n",
        "store_times15MB, store_average15MB = calculate_dif(start15MB,store15MB)\n",
        "ipfs_times15MB, ipfs_average15MB = calculate_dif(start15MB,ipfs15MB)\n",
        "cid_times15MB, cid_average15MB = calculate_dif(start15MB,cid15MB)\n",
        "\n",
        "register_times19MB, register_average19MB = calculate_dif(start19MB,end19MB)\n",
        "store_times19MB, store_average19MB = calculate_dif(start19MB,store19MB)\n",
        "ipfs_times19MB, ipfs_average19MB = calculate_dif(start19MB,ipfs19MB)\n",
        "cid_times19MB, cid_average19MB = calculate_dif(start19MB,cid19MB)\n",
        "\n",
        "register_times26MB, register_average26MB = calculate_dif(start26MB,end26MB)\n",
        "store_times26MB, store_average26MB = calculate_dif(start26MB,store26MB)\n",
        "ipfs_times26MB, ipfs_average26MB = calculate_dif(start26MB,ipfs26MB)\n",
        "cid_times26MB, cid_average26MB = calculate_dif(start26MB,cid26MB)\n",
        "\n",
        "register_times32MB, register_average32MB = calculate_dif(start32MB,end32MB)\n",
        "store_times32MB, store_average32MB = calculate_dif(start32MB,store32MB)\n",
        "ipfs_times32MB, ipfs_average32MB = calculate_dif(start32MB,ipfs32MB)\n",
        "cid_times32MB, cid_average32MB = calculate_dif(start32MB,cid32MB)\n",
        "\n",
        "register_times36MB, register_average36MB = calculate_dif(start36MB,end36MB)\n",
        "store_times36MB, store_average36MB = calculate_dif(start36MB,store36MB)\n",
        "ipfs_times36MB, ipfs_average36MB = calculate_dif(start36MB,ipfs36MB)\n",
        "cid_times36MB, cid_average36MB = calculate_dif(start36MB,cid36MB)"
      ]
    },
    {
      "cell_type": "code",
      "execution_count": null,
      "metadata": {
        "trusted": true
      },
      "outputs": [
        {
          "ename": "",
          "evalue": "",
          "output_type": "error",
          "traceback": [
            "\u001b[1;31mRunning cells with '/usr/bin/python3.8' requires the ipykernel package.\n",
            "\u001b[1;31mRun the following command to install 'ipykernel' into the Python environment. \n",
            "\u001b[1;31mCommand: '/usr/bin/python3.8 -m pip install ipykernel -U --user --force-reinstall'"
          ]
        }
      ],
      "source": [
        "fig,ax = plt.subplots()\n",
        "ax.boxplot([register_times552KB,register_times1MB,register_times4MB,register_times9MB,register_times12MB,register_times15MB,register_times19MB,register_times26MB,register_times32MB,register_times36MB], \n",
        "           positions = [1,2,3,4,5,6,7,8,9,10],\n",
        "                widths=.8, patch_artist=True,\n",
        "                showmeans=False, showfliers=False,\n",
        "                medianprops={\"color\": \"white\", \"linewidth\": 0.5},\n",
        "                boxprops={\"facecolor\": '#34b5e2', \"edgecolor\": \"white\",\n",
        "                          \"linewidth\": 0.5},\n",
        "                whiskerprops={\"color\": '#34b5e2', \"linewidth\": 1.5},\n",
        "                capprops={\"color\": '#34b5e2', \"linewidth\": 1.5})\n",
        "\n",
        "plt.xticks([1,2,3,4,5,6,7,8,9,10],[\"0.5\",\"1\",\"4\",\"9.5\",\"12.1\",\"15.4\",\"19.5\",\"26.7\",\"32\",\"36.1\"])\n",
        "plt.title(\"Total Register Time 100 executions(ms)\")\n",
        "plt.xlabel(\"File size (MB)\")\n",
        "plt.ylabel(\"Register time (ms)\")\n",
        "plt.savefig('totalRegister.png')\n",
        "plt.show()\n"
      ]
    },
    {
      "cell_type": "code",
      "execution_count": null,
      "metadata": {
        "trusted": true
      },
      "outputs": [
        {
          "ename": "",
          "evalue": "",
          "output_type": "error",
          "traceback": [
            "\u001b[1;31mRunning cells with '/usr/bin/python3.8' requires the ipykernel package.\n",
            "\u001b[1;31mRun the following command to install 'ipykernel' into the Python environment. \n",
            "\u001b[1;31mCommand: '/usr/bin/python3.8 -m pip install ipykernel -U --user --force-reinstall'"
          ]
        }
      ],
      "source": [
        "print('average 1KB: ' + str(0.001/register_average1KB*1000))\n",
        "print('average 22KB: ' + str(0.022/register_average22KB*1000))\n",
        "print('average 94KB: ' + str(0.094/register_average94KB*1000))\n",
        "print('average 289KB: ' + str(0.289/register_average289KB*1000))\n",
        "print('average 552KB: ' + str(0.552/register_average552KB*1000))\n",
        "print('average 1.05MB: ' + str(1/register_average1MB*1000))\n",
        "print('average 4.95MB: ' + str(4/register_average4MB*1000))\n",
        "print('average 9.5MB: ' + str(4.95/register_average9MB*1000))\n",
        "print('average 12.1MB: ' + str(12.1/register_average12MB*1000))\n",
        "print('average 15.4MB: ' + str(15.4/register_average15MB*1000))\n",
        "print('average 26.7MB: ' + str(26.7/register_average26MB*1000))\n",
        "print('average 32MB: ' + str(31.7/register_average32MB*1000))\n",
        "print('average 36.1MB: ' + str(36.1/register_average36MB*1000))\n",
        "print('register times 19MB: ')\n",
        "print(register_times22KB)"
      ]
    },
    {
      "cell_type": "code",
      "execution_count": null,
      "metadata": {
        "trusted": true
      },
      "outputs": [
        {
          "ename": "",
          "evalue": "",
          "output_type": "error",
          "traceback": [
            "\u001b[1;31mRunning cells with '/usr/bin/python3.8' requires the ipykernel package.\n",
            "\u001b[1;31mRun the following command to install 'ipykernel' into the Python environment. \n",
            "\u001b[1;31mCommand: '/usr/bin/python3.8 -m pip install ipykernel -U --user --force-reinstall'"
          ]
        }
      ],
      "source": [
        "x = np.arange(10)\n",
        "width = 0.2\n",
        "\n",
        "fig,ax = plt.subplots()\n",
        "\n",
        "ax.bar(x-0.3,[store_average552KB,store_average1MB,store_average4MB,store_average9MB,store_average12MB,store_average15MB,store_average19MB,store_average26MB,store_average32MB,store_average36MB], width, color = '#85e9be')\n",
        "ax.bar(x-0.1,[ipfs_average552KB,ipfs_average1MB,ipfs_average4MB,ipfs_average9MB,ipfs_average12MB,ipfs_average15MB,ipfs_average19MB,ipfs_average26MB,ipfs_average32MB,ipfs_average36MB], width, color = '#faaa20')\n",
        "ax.bar(x+0.1,[cid_average552KB,cid_average1MB,cid_average4MB,cid_average9MB,cid_average12MB,cid_average15MB,cid_average19MB,cid_average26MB,cid_average32MB,cid_average36MB], width, color = '#ffdaf4')\n",
        "ax.bar(x+0.3,[register_average552KB,register_average1MB,register_average4MB,register_average9MB,register_average12MB,register_average15MB,register_average19MB,register_average26MB,register_average32MB,register_average36MB], width, color = '#34b5e2')\n",
        "plt.xticks(x,[\"0.5\",\"1\",\"4\",\"9.5\",\"12.1\",\"15.4\",\"19.5\",\"26.7\",\"32\",\"36.1\"])\n",
        "plt.legend([\"Store update in chain\", \"Store update in IPFS\",\"Update CID in chain\", \"Final agent response\"])\n",
        "#plt.title(\"Register Average Times 100 Executions(ms)\")\n",
        "plt.xlabel(\"File size (MB)\")\n",
        "plt.ylabel(\"Register time (ms)\")\n",
        "plt.savefig('averageRegister.png')\n",
        "plt.show()\n"
      ]
    },
    {
      "cell_type": "code",
      "execution_count": null,
      "metadata": {
        "trusted": true
      },
      "outputs": [
        {
          "ename": "",
          "evalue": "",
          "output_type": "error",
          "traceback": [
            "\u001b[1;31mRunning cells with '/usr/bin/python3.8' requires the ipykernel package.\n",
            "\u001b[1;31mRun the following command to install 'ipykernel' into the Python environment. \n",
            "\u001b[1;31mCommand: '/usr/bin/python3.8 -m pip install ipykernel -U --user --force-reinstall'"
          ]
        }
      ],
      "source": [
        "folder552KB_path = '552KBRetrieval'\n",
        "folder1MB_path = '1MBRetrieval'\n",
        "folder4MB_path = '4MBRetrieval'\n",
        "folder9MB_path = '9MBRetrieval'\n",
        "folder12MB_path = '12MBRetrieval'\n",
        "folder15MB_path = '15MBRetrieval'\n",
        "folder19MB_path = '19MBRetrieval'\n",
        "folder26MB_path = '26MBRetrieval'\n",
        "folder32MB_path = '32MBRetrieval'\n",
        "folder36MB_path = '36MBRetrieval'\n",
        "ipfs_path = '/ipfslog.txt'\n",
        "update_path= '/updatelog.txt'\n",
        "start_path = '/startlog.txt'\n",
        "end_path = '/endlog.txt'\n",
        "\n",
        "start552KB = read_file(folder552KB_path+start_path,[])\n",
        "end552KB = read_file(folder552KB_path+end_path,[])\n",
        "update552KB = read_file(folder552KB_path+update_path,[])\n",
        "ipfs552KB = read_file(folder552KB_path+ipfs_path,[])\n",
        "\n",
        "start1MB = read_file(folder1MB_path+start_path,[])\n",
        "end1MB = read_file(folder1MB_path+end_path,[])\n",
        "update1MB = read_file(folder1MB_path+update_path,[])\n",
        "ipfs1MB = read_file(folder1MB_path+ipfs_path,[])\n",
        "\n",
        "start4MB = read_file(folder4MB_path+start_path,[])\n",
        "end4MB = read_file(folder4MB_path+end_path,[])\n",
        "update4MB = read_file(folder4MB_path+update_path,[])\n",
        "ipfs4MB = read_file(folder4MB_path+ipfs_path,[])\n",
        "\n",
        "start9MB = read_file(folder9MB_path+start_path,[])\n",
        "end9MB = read_file(folder9MB_path+end_path,[])\n",
        "update9MB = read_file(folder9MB_path+update_path,[])\n",
        "ipfs9MB = read_file(folder9MB_path+ipfs_path,[])\n",
        "\n",
        "start12MB = read_file(folder12MB_path+start_path,[])\n",
        "end12MB = read_file(folder12MB_path+end_path,[])\n",
        "update12MB = read_file(folder12MB_path+update_path,[])\n",
        "ipfs12MB = read_file(folder12MB_path+ipfs_path,[])\n",
        "\n",
        "start15MB = read_file(folder15MB_path+start_path,[])\n",
        "end15MB = read_file(folder15MB_path+end_path,[])\n",
        "update15MB = read_file(folder15MB_path+update_path,[])\n",
        "ipfs15MB = read_file(folder15MB_path+ipfs_path,[])\n",
        "\n",
        "start19MB = read_file(folder19MB_path+start_path,[])\n",
        "end19MB = read_file(folder19MB_path+end_path,[])\n",
        "update19MB = read_file(folder19MB_path+update_path,[])\n",
        "ipfs19MB = read_file(folder19MB_path+ipfs_path,[])\n",
        "\n",
        "start26MB = read_file(folder26MB_path+start_path,[])\n",
        "end26MB = read_file(folder26MB_path+end_path,[])\n",
        "update26MB = read_file(folder26MB_path+update_path,[])\n",
        "ipfs26MB = read_file(folder26MB_path+ipfs_path,[])\n",
        "\n",
        "start32MB = read_file(folder32MB_path+start_path,[])\n",
        "end32MB = read_file(folder32MB_path+end_path,[])\n",
        "update32MB = read_file(folder32MB_path+update_path,[])\n",
        "ipfs32MB = read_file(folder32MB_path+ipfs_path,[])\n",
        "\n",
        "start36MB = read_file(folder36MB_path+start_path,[])\n",
        "end36MB = read_file(folder36MB_path+end_path,[])\n",
        "update36MB = read_file(folder36MB_path+update_path,[])\n",
        "ipfs36MB = read_file(folder36MB_path+ipfs_path,[])\n",
        "\n",
        "\n",
        "retrieval_times552KB, retrieval_average552KB = calculate_dif(start552KB,end552KB)\n",
        "update_times552KB, update_average552KB = calculate_dif(start552KB,update552KB)\n",
        "ipfs_times552KB, ipfs_average552KB = calculate_dif(start552KB,ipfs552KB)\n",
        "\n",
        "retrieval_times1MB, retrieval_average1MB = calculate_dif(start1MB,end1MB)\n",
        "update_times1MB, update_average1MB = calculate_dif(start1MB,update1MB)\n",
        "ipfs_times1MB, ipfs_average1MB = calculate_dif(start1MB,ipfs1MB)\n",
        "\n",
        "retrieval_times4MB, retrieval_average4MB = calculate_dif(start4MB,end4MB)\n",
        "update_times4MB, update_average4MB = calculate_dif(start4MB,update4MB)\n",
        "ipfs_times4MB, ipfs_average4MB = calculate_dif(start4MB,ipfs4MB)\n",
        "\n",
        "retrieval_times9MB, retrieval_average9MB = calculate_dif(start9MB,end9MB)\n",
        "update_times9MB, update_average9MB = calculate_dif(start9MB,update9MB)\n",
        "ipfs_times9MB, ipfs_average9MB = calculate_dif(start9MB,ipfs9MB)\n",
        "\n",
        "retrieval_times12MB, retrieval_average12MB = calculate_dif(start12MB,end12MB)\n",
        "update_times12MB, update_average12MB = calculate_dif(start12MB,update12MB)\n",
        "ipfs_times12MB, ipfs_average12MB = calculate_dif(start12MB,ipfs12MB)\n",
        "\n",
        "retrieval_times15MB, retrieval_average15MB = calculate_dif(start15MB,end15MB)\n",
        "update_times15MB, update_average15MB = calculate_dif(start15MB,update15MB)\n",
        "ipfs_times15MB, ipfs_average15MB = calculate_dif(start15MB,ipfs15MB)\n",
        "\n",
        "retrieval_times19MB, retrieval_average19MB = calculate_dif(start19MB,end19MB)\n",
        "update_times19MB, update_average19MB = calculate_dif(start19MB,update19MB)\n",
        "ipfs_times19MB, ipfs_average19MB = calculate_dif(start19MB,ipfs19MB)\n",
        "\n",
        "retrieval_times26MB, retrieval_average26MB = calculate_dif(start26MB,end26MB)\n",
        "update_times26MB, update_average26MB = calculate_dif(start26MB,update26MB)\n",
        "ipfs_times26MB, ipfs_average26MB = calculate_dif(start26MB,ipfs26MB)\n",
        "\n",
        "retrieval_times32MB, retrieval_average32MB = calculate_dif(start32MB,end32MB)\n",
        "update_times32MB, update_average32MB = calculate_dif(start32MB,update32MB)\n",
        "ipfs_times32MB, ipfs_average32MB = calculate_dif(start32MB,ipfs32MB)\n",
        "\n",
        "retrieval_times36MB, retrieval_average36MB = calculate_dif(start36MB,end36MB)\n",
        "update_times36MB, update_average36MB = calculate_dif(start36MB,update36MB)\n",
        "ipfs_times36MB, ipfs_average36MB = calculate_dif(start36MB,ipfs36MB)"
      ]
    },
    {
      "cell_type": "code",
      "execution_count": null,
      "metadata": {
        "trusted": true
      },
      "outputs": [
        {
          "ename": "",
          "evalue": "",
          "output_type": "error",
          "traceback": [
            "\u001b[1;31mRunning cells with '/usr/bin/python3.8' requires the ipykernel package.\n",
            "\u001b[1;31mRun the following command to install 'ipykernel' into the Python environment. \n",
            "\u001b[1;31mCommand: '/usr/bin/python3.8 -m pip install ipykernel -U --user --force-reinstall'"
          ]
        }
      ],
      "source": [
        "fig,ax = plt.subplots()\n",
        "ax.boxplot([retrieval_times552KB,retrieval_times1MB,retrieval_times4MB,retrieval_times9MB,retrieval_times12MB,retrieval_times15MB,retrieval_times19MB,retrieval_times26MB,retrieval_times32MB,retrieval_times36MB], \n",
        "                positions = [1,2,3,4,5,6,7,8,9,10],\n",
        "                widths=.8, patch_artist=True,\n",
        "                showmeans=False, showfliers=False,\n",
        "                medianprops={\"color\": \"white\", \"linewidth\": 0.5},\n",
        "                boxprops={\"facecolor\": \"#34b5e2\", \"edgecolor\": \"white\",\n",
        "                          \"linewidth\": 0.5},\n",
        "                whiskerprops={\"color\": \"#34b5e2\", \"linewidth\": 1.5},\n",
        "                capprops={\"color\": \"#34b5e2\", \"linewidth\": 1.5})\n",
        "\n",
        "plt.xticks([1,2,3,4,5,6,7,8,9,10],[\"0.5\",\"1\",\"4\",\"9.5\",\"12.1\",\"15.4\",\"19.5\",\"26.7\",\"32\",\"36.1\"])\n",
        "plt.title(\"Total Retrieval Time 100 executions(ms)\")\n",
        "plt.xlabel(\"File size (MB)\")\n",
        "plt.ylabel(\"Retrieval speed (KB/ms)\")\n",
        "plt.savefig('totalRetrieval.png')\n",
        "plt.show()"
      ]
    },
    {
      "cell_type": "code",
      "execution_count": null,
      "metadata": {
        "trusted": true
      },
      "outputs": [
        {
          "ename": "",
          "evalue": "",
          "output_type": "error",
          "traceback": [
            "\u001b[1;31mRunning cells with '/usr/bin/python3.8' requires the ipykernel package.\n",
            "\u001b[1;31mRun the following command to install 'ipykernel' into the Python environment. \n",
            "\u001b[1;31mCommand: '/usr/bin/python3.8 -m pip install ipykernel -U --user --force-reinstall'"
          ]
        }
      ],
      "source": [
        "x = np.arange(10)\n",
        "width = 0.2\n",
        "\n",
        "fig,ax = plt.subplots()\n",
        "\n",
        "ax.bar(x-0.2,[update_average552KB,update_average1MB,update_average4MB,update_average9MB,update_average12MB,update_average15MB,update_average19MB,update_average26MB,update_average32MB,update_average36MB], width, color = '#faaa20')\n",
        "ax.bar(x,[ipfs_average552KB,ipfs_average1MB,ipfs_average4MB,ipfs_average9MB,ipfs_average12MB,ipfs_average15MB,ipfs_average19MB,ipfs_average26MB,ipfs_average32MB,ipfs_average36MB], width, color = '#ffdaf4')\n",
        "ax.bar(x+0.2,[retrieval_average552KB,retrieval_average1MB,retrieval_average4MB,retrieval_average9MB,retrieval_average12MB,retrieval_average15MB,retrieval_average19MB,retrieval_average26MB,retrieval_average32MB,retrieval_average36MB], width, color = '#34b5e2')\n",
        "plt.xticks(x,[\"0.5\",\"1\",\"4\",\"9.5\",\"12.1\",\"15.4\",\"19.5\",\"26.7\",\"32\",\"36.1\"])\n",
        "plt.legend([\"Retrieve update from chain\", \"Retrieve payload from IPFS\", \"Final agent response\"])\n",
        "plt.title(\"Retrieval Average Times 100+ Executions(ms)\")\n",
        "plt.xlabel(\"File size (MB)\")\n",
        "plt.ylabel(\"Retrieval speed (KB/ms)\")\n",
        "plt.savefig('averageRetrieval.png')\n",
        "plt.show()"
      ]
    },
    {
      "cell_type": "code",
      "execution_count": null,
      "metadata": {
        "trusted": true
      },
      "outputs": [
        {
          "ename": "",
          "evalue": "",
          "output_type": "error",
          "traceback": [
            "\u001b[1;31mRunning cells with '/usr/bin/python3.8' requires the ipykernel package.\n",
            "\u001b[1;31mRun the following command to install 'ipykernel' into the Python environment. \n",
            "\u001b[1;31mCommand: '/usr/bin/python3.8 -m pip install ipykernel -U --user --force-reinstall'"
          ]
        }
      ],
      "source": [
        "fig,ax = plt.subplots()\n",
        "lister = [register_average552KB,register_average1MB,register_average4MB,register_average9MB,register_average12MB,register_average15MB,register_average19MB,register_average26MB,register_average32MB,register_average36MB]\n",
        "numbers = [0.5,1,4,9.5,12.1,15.4,19.5,26.7,32,36.1]\n",
        "list2 = [retrieval_average552KB,retrieval_average1MB,retrieval_average4MB,retrieval_average9MB,retrieval_average12MB,retrieval_average15MB,retrieval_average19MB,retrieval_average26MB,retrieval_average32MB,retrieval_average36MB]\n",
        "\n",
        "effs = []\n",
        "effs2 = []\n",
        "for i in range(len(lister)):\n",
        "    effs.append(numbers[i]*1024/lister[i])\n",
        "    effs2.append(numbers[i]*1024/list2[i])\n",
        "#ax.plot(numbers,lister, width, color = '#34b5e2')\n",
        "ax.plot(numbers, effs, color='#faaa20')\n",
        "ax.plot(numbers, effs2, color='#34b5e2')\n",
        "#plt.xticks(x,[\"0.5\",\"1\",\"4\",\"9.5\",\"12.1\",\"15.4\",\"19.5\",\"26.7\",\"32\",\"36.1\"]))\n",
        "plt.xlabel(\"File size (MB)\")\n",
        "plt.ylabel(\"Speed (KB/ms)\")\n",
        "plt.legend([\"Register\",\"Retrieval\"])\n",
        "plt.savefig('comparisonEff.png')\n",
        "plt.show()"
      ]
    },
    {
      "cell_type": "code",
      "execution_count": null,
      "metadata": {
        "trusted": true
      },
      "outputs": [
        {
          "ename": "",
          "evalue": "",
          "output_type": "error",
          "traceback": [
            "\u001b[1;31mRunning cells with '/usr/bin/python3.8' requires the ipykernel package.\n",
            "\u001b[1;31mRun the following command to install 'ipykernel' into the Python environment. \n",
            "\u001b[1;31mCommand: '/usr/bin/python3.8 -m pip install ipykernel -U --user --force-reinstall'"
          ]
        }
      ],
      "source": [
        "fig,ax = plt.subplots()\n",
        "\n",
        "ax.plot(numbers, lister, color='#faaa20')\n",
        "ax.plot(numbers, list2, color='#34b5e2')\n",
        "plt.ylabel(\"Time (ms)\")\n",
        "plt.legend([\"Register\",\"Retrieval\"])\n",
        "plt.xlabel(\"File size (MB)\")\n",
        "plt.savefig('comparison.png')\n",
        "plt.show()"
      ]
    },
    {
      "cell_type": "code",
      "execution_count": null,
      "metadata": {},
      "outputs": [
        {
          "ename": "",
          "evalue": "",
          "output_type": "error",
          "traceback": [
            "\u001b[1;31mRunning cells with '/usr/bin/python3.8' requires the ipykernel package.\n",
            "\u001b[1;31mRun the following command to install 'ipykernel' into the Python environment. \n",
            "\u001b[1;31mCommand: '/usr/bin/python3.8 -m pip install ipykernel -U --user --force-reinstall'"
          ]
        }
      ],
      "source": []
    }
  ],
  "metadata": {
    "kernelspec": {
      "display_name": "Python 3",
      "language": "python",
      "name": "python3"
    },
    "language_info": {
      "codemirror_mode": {
        "name": "ipython",
        "version": 3
      },
      "file_extension": ".py",
      "mimetype": "text/x-python",
      "name": "python",
      "nbconvert_exporter": "python",
      "pygments_lexer": "ipython3",
      "version": "3.8.0"
    }
  },
  "nbformat": 4,
  "nbformat_minor": 4
}
